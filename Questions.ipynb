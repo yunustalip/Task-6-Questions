{
 "cells": [
  {
   "cell_type": "markdown",
   "metadata": {},
   "source": [
    "1)Dictiniary İLE Json arasındaki fark nedir? JSON, platform ve dilden\n",
    "bağımsız sistemler arasında aktarım için verileri biçimlendirmenin bir\n",
    "yoludur dictionary ise bir veri yapısıdır. Verileri, önce bir listeye\n",
    "veya başka bir şeye dönüştürmeden doğrudan dictionary içinde\n",
    "işleyebiliriz. 2) json.dumps(data).encode(“utf-8”)yerine neden\n",
    "data.encode(“utf-8”) şeklinde yapmadık?\n",
    "\n",
    "1.  json.dumps nedir? Sözlük (dict) veri tipinden JSON tipine çevirme\n",
    "    işlemi uygular\n",
    "\n",
    "2.  json.dump nedir? Sözlük (dict) veri tipinden JSON dosyasına çevirip\n",
    "    yazma işlemi uygular.\n",
    "\n",
    "3.  json.load nedir? JSON dosyasını okuma ve sözlük (dict) veri tipine\n",
    "    çevirme işlemi uygular\n",
    "\n",
    "4.  json loads nedir? JSON verisini sözlük (dict) veri tipine çevirme\n",
    "    işlemi uygular\n",
    "\n",
    "5.  Dockerın içinde hangi networkta çalıştığını ve default ipsini nasıl\n",
    "    bulabiliriz? powershell arayüzünde docker network inspect bridge\n",
    "    komutu ile hangi networkte çalıştığını öğrenebiliriz. ve docker\n",
    "    inspect -f “{{range.NetworkSettings.Networks}}{{.IPAddress}}{{end}}”\n",
    "    BURAYACONTAINERIDSI kodu ile ip adresi bulunabilir.\n",
    "\n",
    "6.  192.168.0.1 nedir 127.0.0.1 ile arasındaki fark nedir 192.168.0.1\n",
    "    genelde bilgisayarın bağlı bulunduğu modemin yerel(local) ip\n",
    "    adresidir. 127.0.0.1 ise cihazın dahili adresidir. Ağa hiç\n",
    "    bağlanmadan bilgisayarın kendine tanımladığı adres gibi\n",
    "    düşünebiliriz. Bu nedenle, yalnızca makinede çalışan uygulamalar\n",
    "    arasında ağ trafiği oluşturur."
   ]
  }
 ],
 "nbformat": 4,
 "nbformat_minor": 5,
 "metadata": {}
}
