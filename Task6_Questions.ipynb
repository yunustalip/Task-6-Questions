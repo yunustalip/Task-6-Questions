{
  "nbformat": 4,
  "nbformat_minor": 0,
  "metadata": {
    "colab": {
      "provenance": [],
      "collapsed_sections": []
    },
    "kernelspec": {
      "name": "python3",
      "display_name": "Python 3"
    },
    "language_info": {
      "name": "python"
    }
  },
  "cells": [
    {
      "cell_type": "markdown",
      "source": [
        "1)Dictiniary İLE Json arasındaki fark nedir?\n",
        "\n",
        "JSON, platform ve dilden bağımsız sistemler arasında aktarım için verileri biçimlendirmenin bir yoludur dictionary ise bir veri yapısıdır.\n",
        "Verileri, önce bir listeye veya başka bir şeye dönüştürmeden doğrudan dictionary içinde işleyebiliriz. \n",
        "\n",
        "2) json.dumps(data).encode(“utf-8”) yerine neden data.encode(“utf-8”) şeklinde yapmadık?\n",
        "\n",
        "Kafka verileri JSON formatında istediği için ilk başta JSON formatına çevirip sonra encode işlemi uyguluyoruz.\n",
        "\n",
        "3) json.dumps nedir?\n",
        "\n",
        "Sözlük (dict) veri tipinden JSON tipine çevirme işlemi uygular\n",
        "\n",
        "4) json.dump nedir?\n",
        "\n",
        "Sözlük (dict) veri tipinden JSON dosyasına çevirip yazma işlemi uygular.\n",
        "\n",
        "5) json.load nedir?\n",
        "\n",
        "JSON dosyasını okuma ve sözlük (dict) veri tipine çevirme işlemi uygular\n",
        "\n",
        "6) json loads nedir?\n",
        "\n",
        "JSON verisini sözlük (dict) veri tipine çevirme işlemi uygular\n",
        "\n",
        "7) Dockerın içinde hangi networkta çalıştığını ve default ipsini nasıl bulabiliriz?\n",
        "\n",
        "powershell arayüzünde docker network inspect bridge komutu ile hangi networkte çalıştığını öğrenebiliriz.\n",
        "ve \n",
        "docker inspect -f “{{range.NetworkSettings.Networks}}{{.IPAddress}}{{end}}” BURAYACONTAINERIDSI kodu ile ip adresi bulunabilir.\n",
        "\n",
        "8) 192.168.0.1 nedir 127.0.0.1 ile arasındaki fark nedir?\n",
        "\n",
        "192.168.0.1 genelde bilgisayarın bağlı bulunduğu modemin yerel(local) ip adresidir.\n",
        "127.0.0.1 ise cihazın dahili adresidir. Ağa hiç bağlanmadan bilgisayarın kendine tanımladığı adres gibi düşünebiliriz.\n",
        "Bu nedenle, yalnızca makinede çalışan uygulamalar arasında ağ trafiği oluşturur."
      ],
      "metadata": {
        "id": "L38J9oZHZbGe"
      }
    }
  ]
}